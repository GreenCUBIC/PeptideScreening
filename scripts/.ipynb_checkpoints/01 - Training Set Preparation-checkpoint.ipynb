{
 "cells": [
  {
   "cell_type": "markdown",
   "metadata": {},
   "source": [
    "# Interaction sets preparation\n",
    "\n",
    "I want to prepare 4 sets of interactions:\n",
    "\n",
    "- $C^+$: Conservative criteria with endogenous peptide interactions\n",
    "- $C^-$: Conservative criteria without endogenous peptide interactions"
   ]
  },
  {
   "cell_type": "code",
   "execution_count": 1,
   "metadata": {},
   "outputs": [],
   "source": [
    "DATA_DIR = \"../data\"\n",
    "INTERACTIONS_DIR = f\"{DATA_DIR}/interactions\"\n",
    "PEPTIDES_DIR = f\"{DATA_DIR}/peptides\""
   ]
  },
  {
   "cell_type": "code",
   "execution_count": 2,
   "metadata": {},
   "outputs": [],
   "source": [
    "# STD Library\n",
    "from xml.etree.ElementTree import fromstring\n",
    "import json\n",
    "\n",
    "# 3rd party packages\n",
    "import requests\n",
    "import pandas as pd\n",
    "from Bio.Blast import NCBIWWW\n",
    "from Bio import SeqRecord, Seq\n",
    "import xmljson"
   ]
  },
  {
   "cell_type": "code",
   "execution_count": 3,
   "metadata": {},
   "outputs": [
    {
     "name": "stdout",
     "output_type": "stream",
     "text": [
      "Biogrid dataset already downloaded.\n"
     ]
    }
   ],
   "source": [
    "! [ -f \"../data/interactions/biogrid_interactions.tab3.zip\" ] && echo \"Biogrid dataset already downloaded.\" || curl https://downloads.thebiogrid.org/Download/BioGRID/Release-Archive/BIOGRID-4.3.194/BIOGRID-ALL-4.3.194.tab3.zip -o ../data/interactions/biogrid_interactions.tab3.zip"
   ]
  },
  {
   "cell_type": "code",
   "execution_count": 4,
   "metadata": {},
   "outputs": [
    {
     "name": "stderr",
     "output_type": "stream",
     "text": [
      "/home/fcharih/.local/lib/python3.8/site-packages/IPython/core/interactiveshell.py:3145: DtypeWarning: Columns (1,2,18) have mixed types.Specify dtype option on import or set low_memory=False.\n",
      "  has_raised = await self.run_ast_nodes(code_ast.body, cell_name,\n"
     ]
    }
   ],
   "source": [
    "# Download the BioGRID dataset\n",
    "interactions_df = pd.read_csv(f\"{INTERACTIONS_DIR}/biogrid_interactions.tab3.zip\", sep=\"\\t\")"
   ]
  },
  {
   "cell_type": "code",
   "execution_count": 5,
   "metadata": {},
   "outputs": [
    {
     "data": {
      "text/plain": [
       "Index(['#BioGRID Interaction ID', 'Entrez Gene Interactor A',\n",
       "       'Entrez Gene Interactor B', 'BioGRID ID Interactor A',\n",
       "       'BioGRID ID Interactor B', 'Systematic Name Interactor A',\n",
       "       'Systematic Name Interactor B', 'Official Symbol Interactor A',\n",
       "       'Official Symbol Interactor B', 'Synonyms Interactor A',\n",
       "       'Synonyms Interactor B', 'Experimental System',\n",
       "       'Experimental System Type', 'Author', 'Publication Source',\n",
       "       'Organism ID Interactor A', 'Organism ID Interactor B', 'Throughput',\n",
       "       'Score', 'Modification', 'Qualifications', 'Tags', 'Source Database',\n",
       "       'SWISS-PROT Accessions Interactor A', 'TREMBL Accessions Interactor A',\n",
       "       'REFSEQ Accessions Interactor A', 'SWISS-PROT Accessions Interactor B',\n",
       "       'TREMBL Accessions Interactor B', 'REFSEQ Accessions Interactor B',\n",
       "       'Ontology Term IDs', 'Ontology Term Names', 'Ontology Term Categories',\n",
       "       'Ontology Term Qualifier IDs', 'Ontology Term Qualifier Names',\n",
       "       'Ontology Term Types', 'Organism Name Interactor A',\n",
       "       'Organism Name Interactor B'],\n",
       "      dtype='object')"
      ]
     },
     "execution_count": 5,
     "metadata": {},
     "output_type": "execute_result"
    }
   ],
   "source": [
    "# What columns do we have?\n",
    "interactions_df.columns"
   ]
  },
  {
   "cell_type": "code",
   "execution_count": 6,
   "metadata": {},
   "outputs": [],
   "source": [
    "# Select useful columns and rename\n",
    "interactions_df = interactions_df[[\n",
    "    \"SWISS-PROT Accessions Interactor A\",\n",
    "    \"SWISS-PROT Accessions Interactor B\",\n",
    "    'Organism ID Interactor A',\n",
    "    'Organism ID Interactor B',\n",
    "    'Author',\n",
    "    'Publication Source',\n",
    "    \"Experimental System\"\n",
    "]].rename(columns={\n",
    "    \"SWISS-PROT Accessions Interactor A\": \"prot_a\",\n",
    "    \"SWISS-PROT Accessions Interactor B\": \"prot_b\",\n",
    "    'Organism ID Interactor A': \"organism_a\",\n",
    "    'Organism ID Interactor B': \"organism_b\",\n",
    "    'Author': \"author\",\n",
    "    'Publication Source': \"source\",\n",
    "    \"Experimental System\": \"system\"\n",
    "})"
   ]
  },
  {
   "cell_type": "code",
   "execution_count": 7,
   "metadata": {},
   "outputs": [],
   "source": [
    "# Filter out non-human interactions\n",
    "HUMAN_TAX_ID = 9606\n",
    "interactions_df = interactions_df[(interactions_df.organism_a == HUMAN_TAX_ID) & (interactions_df.organism_b == HUMAN_TAX_ID)]"
   ]
  },
  {
   "cell_type": "code",
   "execution_count": 8,
   "metadata": {},
   "outputs": [],
   "source": [
    "# Ensure that prot_a is < prot_b lexicographically (useful for identifying duplicates)\n",
    "temp_df = interactions_df[[\"prot_a\", \"prot_b\"]].copy()\n",
    "interactions_df[\"prot_a\"] = temp_df.min(axis=1)\n",
    "interactions_df[\"prot_b\"] = temp_df.max(axis=1)"
   ]
  },
  {
   "cell_type": "code",
   "execution_count": 9,
   "metadata": {},
   "outputs": [],
   "source": [
    "# Remove interactions with invalid uniprot IDs\n",
    "interactions_df = interactions_df[(~interactions_df.prot_a.str.contains(\"-\")) & (~interactions_df.prot_b.str.contains(\"-\"))]"
   ]
  },
  {
   "cell_type": "code",
   "execution_count": 10,
   "metadata": {},
   "outputs": [],
   "source": [
    "# Remove interactions where one of the partner is a protein complex\n",
    "interactions_df = interactions_df[(~interactions_df.prot_a.apply(lambda x: \"|\" in x)) & (~interactions_df.prot_b.apply(lambda x: \"|\" in x))]"
   ]
  },
  {
   "cell_type": "code",
   "execution_count": 11,
   "metadata": {},
   "outputs": [],
   "source": [
    "# I can now create the p+ dataset\n",
    "p_plus = interactions_df[[\"prot_a\", \"prot_b\"]].drop_duplicates()\n",
    "p_plus.to_csv(f\"{INTERACTIONS_DIR}/permissive_plus.txt\", header=None, index=False, sep=\" \")"
   ]
  },
  {
   "cell_type": "code",
   "execution_count": 12,
   "metadata": {},
   "outputs": [],
   "source": [
    "# According to Positome paper (Dick et al., 2017)\n",
    "CONSERVATIVE_SYSTEMS = [\n",
    "    \"Two-hybrid\",\n",
    "    \"Affinity Capture-MS\",\n",
    "    \"Affinity Capture-Western\",\n",
    "    \"Reconstituted Complex\",\n",
    "    \"Affinity Capture-Luminescence\",\n",
    "    \"Co-crystal Structure\",\n",
    "    \"Far Western\",\n",
    "    \"FRET\",\n",
    "    \"Protein-peptide\",\n",
    "    \"Co-localization\",\n",
    "    \"Affinity Capture-RNA\",\n",
    "    \"Co-purification\"\n",
    "]"
   ]
  },
  {
   "cell_type": "code",
   "execution_count": 13,
   "metadata": {},
   "outputs": [],
   "source": [
    "# Select the interactions detected with one of the conservative (robust) methods\n",
    "conservative_systems = interactions_df[interactions_df.system.isin(CONSERVATIVE_SYSTEMS)]"
   ]
  },
  {
   "cell_type": "code",
   "execution_count": 14,
   "metadata": {},
   "outputs": [],
   "source": [
    "# Group the interactions by protein pairs\n",
    "pair_groups = conservative_systems[[\"prot_a\", \"prot_b\", \"author\"]].groupby([conservative_systems.prot_a, conservative_systems.prot_b]).count()"
   ]
  },
  {
   "cell_type": "code",
   "execution_count": 15,
   "metadata": {},
   "outputs": [],
   "source": [
    "# Get pairs that were reported by more than one author\n",
    "pairs_with_mlo = pair_groups[pair_groups.author > 1] # mlo: multiple lines of evidence\n",
    "c_plus = pd.DataFrame({ \"prot_a\": [p[0] for p in list(pairs_with_mlo.index)], \"prot_b\": [p[1] for p in list(pairs_with_mlo.index)] })"
   ]
  },
  {
   "cell_type": "code",
   "execution_count": 16,
   "metadata": {},
   "outputs": [],
   "source": [
    "c_plus.to_csv(f\"{INTERACTIONS_DIR}/conservative_plus.txt\", header=None, index=False, sep=\" \")"
   ]
  },
  {
   "cell_type": "markdown",
   "metadata": {},
   "source": [
    "OK. At this point, I have my $C^+$ dataset. Now, I will need to identify proteins in the proteome that share high similarity with the peptides so that they can be removed from the interaction set to form the $C^-$ dataset."
   ]
  },
  {
   "cell_type": "code",
   "execution_count": 17,
   "metadata": {},
   "outputs": [
    {
     "data": {
      "text/html": [
       "<div>\n",
       "<style scoped>\n",
       "    .dataframe tbody tr th:only-of-type {\n",
       "        vertical-align: middle;\n",
       "    }\n",
       "\n",
       "    .dataframe tbody tr th {\n",
       "        vertical-align: top;\n",
       "    }\n",
       "\n",
       "    .dataframe thead th {\n",
       "        text-align: right;\n",
       "    }\n",
       "</style>\n",
       "<table border=\"1\" class=\"dataframe\">\n",
       "  <thead>\n",
       "    <tr style=\"text-align: right;\">\n",
       "      <th></th>\n",
       "      <th>peptide_name</th>\n",
       "      <th>status</th>\n",
       "      <th>first_approval</th>\n",
       "      <th>indications</th>\n",
       "      <th>therapeutic_area</th>\n",
       "      <th>route_of_administration</th>\n",
       "      <th>conjugation</th>\n",
       "      <th>molecular_target</th>\n",
       "      <th>chemical_basis</th>\n",
       "      <th>sequence</th>\n",
       "      <th>targets</th>\n",
       "    </tr>\n",
       "  </thead>\n",
       "  <tbody>\n",
       "    <tr>\n",
       "      <th>0</th>\n",
       "      <td>corticotropin</td>\n",
       "      <td>Approved</td>\n",
       "      <td>1952</td>\n",
       "      <td>Multiple inflammatory diseases; West syndrome</td>\n",
       "      <td>CNS</td>\n",
       "      <td>Subcutaneous</td>\n",
       "      <td>No</td>\n",
       "      <td>MC receptors</td>\n",
       "      <td>native</td>\n",
       "      <td>SYSMEHFRWGKPVGKKRRPVKVYPDGAEDQLAEAFPLEF</td>\n",
       "      <td>Q01726;Q01718;P41968;P32245;P33032</td>\n",
       "    </tr>\n",
       "    <tr>\n",
       "      <th>1</th>\n",
       "      <td>calcitonin (salmon)</td>\n",
       "      <td>Approved</td>\n",
       "      <td>1971</td>\n",
       "      <td>Hypercalcemia; Paget's disease; osteoporosis</td>\n",
       "      <td>Bones and connective tissues</td>\n",
       "      <td>Intranasal;subcutaneous</td>\n",
       "      <td>No</td>\n",
       "      <td>Calcitonin receptor</td>\n",
       "      <td>native</td>\n",
       "      <td>CSNLSTCVLGKLSQELHKLQTYPRTNTGSGTP</td>\n",
       "      <td>P30988</td>\n",
       "    </tr>\n",
       "    <tr>\n",
       "      <th>2</th>\n",
       "      <td>tetracosactide</td>\n",
       "      <td>Approved</td>\n",
       "      <td>1980</td>\n",
       "      <td>Multiple inflammatory diseases</td>\n",
       "      <td>Endocrinology</td>\n",
       "      <td>Subcutaneous</td>\n",
       "      <td>No</td>\n",
       "      <td>MC receptors</td>\n",
       "      <td>native</td>\n",
       "      <td>SYSMEHFRWGKPVGKKRRPVKVYP</td>\n",
       "      <td>Q01726;Q01718;P41968;P32245;P33032</td>\n",
       "    </tr>\n",
       "    <tr>\n",
       "      <th>3</th>\n",
       "      <td>calcitonin (human)</td>\n",
       "      <td>Approved</td>\n",
       "      <td>1986</td>\n",
       "      <td>Hypercalcemia; Paget's disease; osteoporosis</td>\n",
       "      <td>Bones and connective tissues</td>\n",
       "      <td>Intramuscular;intranasal;subcutaneous</td>\n",
       "      <td>No</td>\n",
       "      <td>Calcitonin receptor</td>\n",
       "      <td>native</td>\n",
       "      <td>CGNLSTCVLGTYTQDFNKFHTFPQTAIGVGAP</td>\n",
       "      <td>Q16602</td>\n",
       "    </tr>\n",
       "    <tr>\n",
       "      <th>4</th>\n",
       "      <td>carperitide</td>\n",
       "      <td>Approved</td>\n",
       "      <td>1995</td>\n",
       "      <td>Acute decompensated heart failure</td>\n",
       "      <td>Cardiovascular</td>\n",
       "      <td>Intravenous</td>\n",
       "      <td>No</td>\n",
       "      <td>NPR-A</td>\n",
       "      <td>native</td>\n",
       "      <td>SLRRSSCFGGRMDRIGAQSGLGCNSFRY</td>\n",
       "      <td>P16066</td>\n",
       "    </tr>\n",
       "  </tbody>\n",
       "</table>\n",
       "</div>"
      ],
      "text/plain": [
       "          peptide_name    status  first_approval  \\\n",
       "0        corticotropin  Approved            1952   \n",
       "1  calcitonin (salmon)  Approved            1971   \n",
       "2       tetracosactide  Approved            1980   \n",
       "3   calcitonin (human)  Approved            1986   \n",
       "4          carperitide  Approved            1995   \n",
       "\n",
       "                                     indications  \\\n",
       "0  Multiple inflammatory diseases; West syndrome   \n",
       "1   Hypercalcemia; Paget's disease; osteoporosis   \n",
       "2                 Multiple inflammatory diseases   \n",
       "3   Hypercalcemia; Paget's disease; osteoporosis   \n",
       "4              Acute decompensated heart failure   \n",
       "\n",
       "               therapeutic_area                route_of_administration  \\\n",
       "0                           CNS                           Subcutaneous   \n",
       "1  Bones and connective tissues                Intranasal;subcutaneous   \n",
       "2                 Endocrinology                           Subcutaneous   \n",
       "3  Bones and connective tissues  Intramuscular;intranasal;subcutaneous   \n",
       "4                Cardiovascular                            Intravenous   \n",
       "\n",
       "  conjugation     molecular_target chemical_basis  \\\n",
       "0          No         MC receptors         native   \n",
       "1          No  Calcitonin receptor         native   \n",
       "2          No         MC receptors         native   \n",
       "3          No  Calcitonin receptor         native   \n",
       "4          No                NPR-A         native   \n",
       "\n",
       "                                  sequence                             targets  \n",
       "0  SYSMEHFRWGKPVGKKRRPVKVYPDGAEDQLAEAFPLEF  Q01726;Q01718;P41968;P32245;P33032  \n",
       "1         CSNLSTCVLGKLSQELHKLQTYPRTNTGSGTP                              P30988  \n",
       "2                 SYSMEHFRWGKPVGKKRRPVKVYP  Q01726;Q01718;P41968;P32245;P33032  \n",
       "3         CGNLSTCVLGTYTQDFNKFHTFPQTAIGVGAP                              Q16602  \n",
       "4             SLRRSSCFGGRMDRIGAQSGLGCNSFRY                              P16066  "
      ]
     },
     "execution_count": 17,
     "metadata": {},
     "output_type": "execute_result"
    }
   ],
   "source": [
    "# Load the FDA-approved peptides as a dataframe \n",
    "peptides = pd.read_csv(f\"{PEPTIDES_DIR}/peptide_subset.csv\")\n",
    "peptides.head()"
   ]
  },
  {
   "cell_type": "code",
   "execution_count": 18,
   "metadata": {},
   "outputs": [],
   "source": [
    "# BLAST all the peptides to make find endogenous versions of the peptides (SLOW TO RUN, SO CACHE RESULTS)\n",
    "#blast_results = {}\n",
    "#for i, row in peptides.iterrows():\n",
    "#    result_handle = NCBIWWW.qblast(\"blastp\", \"swissprot\", SeqRecord.SeqRecord(row.Sequence, id=peptide_name))\n",
    "#    blast_results[row[\"peptide_name\"]] = result_handle.read()\n",
    "#    print(f\"Completed {i + 1}/{len(peptides)}...\")\n",
    "#open(f\"{PEPTIDES_DIR}/peptide_blast_results.json\", \"w\").write(json.dumps(blast_results))"
   ]
  },
  {
   "cell_type": "code",
   "execution_count": 19,
   "metadata": {},
   "outputs": [],
   "source": [
    "blast_results = json.load(open(f\"{PEPTIDES_DIR}/peptide_blast_results.json\"))"
   ]
  },
  {
   "cell_type": "code",
   "execution_count": 20,
   "metadata": {},
   "outputs": [],
   "source": [
    "# Parse the XML (why XML????) to JSON\n",
    "blast_results_json = {}\n",
    "for peptide, result in blast_results.items():\n",
    "    parser = xmljson.Parker(dict_type=dict)\n",
    "    blast_results_json[peptide] = parser.data(fromstring(result))"
   ]
  },
  {
   "cell_type": "code",
   "execution_count": 21,
   "metadata": {},
   "outputs": [],
   "source": [
    "def filter_hits(blast_dict, min_align_len, min_identity):\n",
    "    \"\"\"Goes through the hits returned by BLAST and selects the proteins where there\n",
    "    is a HSP and returns a set with the accession IDs where a HSP is found with alignment length\n",
    "    >= to min_align_len and identify >= min_identity.\n",
    "    \"\"\"\n",
    "    to_remove = set([])\n",
    "    for hit in blast_dict[\"BlastOutput_iterations\"][\"Iteration\"][\"Iteration_hits\"][\"Hit\"]:\n",
    "        protein_name = hit[\"Hit_def\"].split(\";\")[0].split(\"Full=\")[1]\n",
    "        hsps = [hit[\"Hit_hsps\"][\"Hsp\"]] if not isinstance(hit[\"Hit_hsps\"][\"Hsp\"], list) else hit[\"Hit_hsps\"][\"Hsp\"]\n",
    "        for hsp in hsps:\n",
    "            if hsp[\"Hsp_align-len\"] >= min_align_len and hsp['Hsp_identity'] >= min_identity:\n",
    "                to_remove.add(hit[\"Hit_accession\"])\n",
    "                \n",
    "    return to_remove"
   ]
  },
  {
   "cell_type": "code",
   "execution_count": 22,
   "metadata": {},
   "outputs": [],
   "source": [
    "# Group all the endogenous analogs of peptides\n",
    "IDENTITY_THRESHOLD = 0.9 # percentage identity for a HIT\n",
    "\n",
    "proteins_with_high_identity = set([])\n",
    "for i, row in peptides.iterrows():\n",
    "    proteins_with_high_identity.update(filter_hits(blast_results_json[row.peptide_name], len(row.sequence), IDENTITY_THRESHOLD*len(row.sequence)))"
   ]
  },
  {
   "cell_type": "code",
   "execution_count": 23,
   "metadata": {},
   "outputs": [],
   "source": [
    "c_minus = c_plus[(~c_plus.prot_a.isin(proteins_with_high_identity)) & (~c_plus.prot_b.isin(proteins_with_high_identity))]"
   ]
  },
  {
   "cell_type": "code",
   "execution_count": 24,
   "metadata": {},
   "outputs": [
    {
     "data": {
      "text/plain": [
       "8"
      ]
     },
     "execution_count": 24,
     "metadata": {},
     "output_type": "execute_result"
    }
   ],
   "source": [
    "# How many interactions did we remove?\n",
    "len(c_plus) - len(c_minus)"
   ]
  },
  {
   "cell_type": "code",
   "execution_count": 25,
   "metadata": {},
   "outputs": [
    {
     "name": "stderr",
     "output_type": "stream",
     "text": [
      "<ipython-input-25-bdf1b9334151>:3: SettingWithCopyWarning: \n",
      "A value is trying to be set on a copy of a slice from a DataFrame.\n",
      "Try using .loc[row_indexer,col_indexer] = value instead\n",
      "\n",
      "See the caveats in the documentation: https://pandas.pydata.org/pandas-docs/stable/user_guide/indexing.html#returning-a-view-versus-a-copy\n",
      "  removed[\"name_a\"] = removed[\"prot_a\"].apply(lambda uid: requests.get(f\"https://www.ebi.ac.uk/proteins/api/proteins/{uid}.fasta\").text.split(\"|\")[2].split(\" OS\")[0])\n",
      "<ipython-input-25-bdf1b9334151>:4: SettingWithCopyWarning: \n",
      "A value is trying to be set on a copy of a slice from a DataFrame.\n",
      "Try using .loc[row_indexer,col_indexer] = value instead\n",
      "\n",
      "See the caveats in the documentation: https://pandas.pydata.org/pandas-docs/stable/user_guide/indexing.html#returning-a-view-versus-a-copy\n",
      "  removed[\"name_b\"] = removed[\"prot_b\"].apply(lambda uid: requests.get(f\"https://www.ebi.ac.uk/proteins/api/proteins/{uid}.fasta\").text.split(\"|\")[2].split(\" OS\")[0])\n"
     ]
    },
    {
     "data": {
      "text/html": [
       "<div>\n",
       "<style scoped>\n",
       "    .dataframe tbody tr th:only-of-type {\n",
       "        vertical-align: middle;\n",
       "    }\n",
       "\n",
       "    .dataframe tbody tr th {\n",
       "        vertical-align: top;\n",
       "    }\n",
       "\n",
       "    .dataframe thead th {\n",
       "        text-align: right;\n",
       "    }\n",
       "</style>\n",
       "<table border=\"1\" class=\"dataframe\">\n",
       "  <thead>\n",
       "    <tr style=\"text-align: right;\">\n",
       "      <th></th>\n",
       "      <th>prot_a</th>\n",
       "      <th>prot_b</th>\n",
       "      <th>name_a</th>\n",
       "      <th>name_b</th>\n",
       "    </tr>\n",
       "  </thead>\n",
       "  <tbody>\n",
       "    <tr>\n",
       "      <th>14726</th>\n",
       "      <td>P01160</td>\n",
       "      <td>P17342</td>\n",
       "      <td>ANF_HUMAN Natriuretic peptides A</td>\n",
       "      <td>ANPRC_HUMAN Atrial natriuretic peptide receptor 3</td>\n",
       "    </tr>\n",
       "    <tr>\n",
       "      <th>14727</th>\n",
       "      <td>P01160</td>\n",
       "      <td>P20594</td>\n",
       "      <td>ANF_HUMAN Natriuretic peptides A</td>\n",
       "      <td>ANPRB_HUMAN Atrial natriuretic peptide receptor 2</td>\n",
       "    </tr>\n",
       "    <tr>\n",
       "      <th>14728</th>\n",
       "      <td>P01160</td>\n",
       "      <td>P43365</td>\n",
       "      <td>ANF_HUMAN Natriuretic peptides A</td>\n",
       "      <td>MAGAC_HUMAN Melanoma-associated antigen 12</td>\n",
       "    </tr>\n",
       "    <tr>\n",
       "      <th>14730</th>\n",
       "      <td>P01189</td>\n",
       "      <td>P32245</td>\n",
       "      <td>COLI_HUMAN Pro-opiomelanocortin</td>\n",
       "      <td>MC4R_HUMAN Melanocortin receptor 4</td>\n",
       "    </tr>\n",
       "    <tr>\n",
       "      <th>14748</th>\n",
       "      <td>P01275</td>\n",
       "      <td>P43220</td>\n",
       "      <td>GLUC_HUMAN Pro-glucagon</td>\n",
       "      <td>GLP1R_HUMAN Glucagon-like peptide 1 receptor</td>\n",
       "    </tr>\n",
       "    <tr>\n",
       "      <th>23262</th>\n",
       "      <td>P16066</td>\n",
       "      <td>P16860</td>\n",
       "      <td>ANPRA_HUMAN Atrial natriuretic peptide receptor 1</td>\n",
       "      <td>ANFB_HUMAN Natriuretic peptides B</td>\n",
       "    </tr>\n",
       "    <tr>\n",
       "      <th>23563</th>\n",
       "      <td>P16860</td>\n",
       "      <td>P17342</td>\n",
       "      <td>ANFB_HUMAN Natriuretic peptides B</td>\n",
       "      <td>ANPRC_HUMAN Atrial natriuretic peptide receptor 3</td>\n",
       "    </tr>\n",
       "    <tr>\n",
       "      <th>23564</th>\n",
       "      <td>P16860</td>\n",
       "      <td>P20594</td>\n",
       "      <td>ANFB_HUMAN Natriuretic peptides B</td>\n",
       "      <td>ANPRB_HUMAN Atrial natriuretic peptide receptor 2</td>\n",
       "    </tr>\n",
       "  </tbody>\n",
       "</table>\n",
       "</div>"
      ],
      "text/plain": [
       "       prot_a  prot_b                                             name_a  \\\n",
       "14726  P01160  P17342                   ANF_HUMAN Natriuretic peptides A   \n",
       "14727  P01160  P20594                   ANF_HUMAN Natriuretic peptides A   \n",
       "14728  P01160  P43365                   ANF_HUMAN Natriuretic peptides A   \n",
       "14730  P01189  P32245                    COLI_HUMAN Pro-opiomelanocortin   \n",
       "14748  P01275  P43220                            GLUC_HUMAN Pro-glucagon   \n",
       "23262  P16066  P16860  ANPRA_HUMAN Atrial natriuretic peptide receptor 1   \n",
       "23563  P16860  P17342                  ANFB_HUMAN Natriuretic peptides B   \n",
       "23564  P16860  P20594                  ANFB_HUMAN Natriuretic peptides B   \n",
       "\n",
       "                                                  name_b  \n",
       "14726  ANPRC_HUMAN Atrial natriuretic peptide receptor 3  \n",
       "14727  ANPRB_HUMAN Atrial natriuretic peptide receptor 2  \n",
       "14728         MAGAC_HUMAN Melanoma-associated antigen 12  \n",
       "14730                 MC4R_HUMAN Melanocortin receptor 4  \n",
       "14748       GLP1R_HUMAN Glucagon-like peptide 1 receptor  \n",
       "23262                  ANFB_HUMAN Natriuretic peptides B  \n",
       "23563  ANPRC_HUMAN Atrial natriuretic peptide receptor 3  \n",
       "23564  ANPRB_HUMAN Atrial natriuretic peptide receptor 2  "
      ]
     },
     "execution_count": 25,
     "metadata": {},
     "output_type": "execute_result"
    }
   ],
   "source": [
    "# Which pairs did I remove are they?\n",
    "removed = c_plus[(c_plus.prot_a.isin(proteins_with_high_identity)) | (c_plus.prot_b.isin(proteins_with_high_identity))]\n",
    "removed[\"name_a\"] = removed[\"prot_a\"].apply(lambda uid: requests.get(f\"https://www.ebi.ac.uk/proteins/api/proteins/{uid}.fasta\").text.split(\"|\")[2].split(\" OS\")[0])\n",
    "removed[\"name_b\"] = removed[\"prot_b\"].apply(lambda uid: requests.get(f\"https://www.ebi.ac.uk/proteins/api/proteins/{uid}.fasta\").text.split(\"|\")[2].split(\" OS\")[0])\n",
    "removed"
   ]
  },
  {
   "cell_type": "code",
   "execution_count": 26,
   "metadata": {},
   "outputs": [],
   "source": [
    "c_minus.to_csv(f\"{INTERACTIONS_DIR}/conservative_minus.txt\", index=False, header=None, sep=\" \")"
   ]
  }
 ],
 "metadata": {
  "kernelspec": {
   "display_name": "Python 3",
   "language": "python",
   "name": "python3"
  },
  "language_info": {
   "codemirror_mode": {
    "name": "ipython",
    "version": 3
   },
   "file_extension": ".py",
   "mimetype": "text/x-python",
   "name": "python",
   "nbconvert_exporter": "python",
   "pygments_lexer": "ipython3",
   "version": "3.8.5"
  }
 },
 "nbformat": 4,
 "nbformat_minor": 4
}
