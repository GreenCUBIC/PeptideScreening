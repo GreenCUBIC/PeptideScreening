{
 "cells": [
  {
   "cell_type": "code",
   "execution_count": 1,
   "metadata": {},
   "outputs": [],
   "source": [
    "using FASTX\n",
    "using BioTools.BLAST\n",
    "using BioSequences"
   ]
  },
  {
   "cell_type": "code",
   "execution_count": 2,
   "metadata": {},
   "outputs": [
    {
     "data": {
      "text/plain": [
       "\"../data/sequences/peptide_sequences.tsv\""
      ]
     },
     "execution_count": 2,
     "metadata": {},
     "output_type": "execute_result"
    }
   ],
   "source": [
    "# Globals\n",
    "DATA_DIR = \"../data\"\n",
    "SEQ_DIR = \"$DATA_DIR/sequences\"\n",
    "PEPTIDES_FILE = \"$SEQ_DIR/peptide_sequences.tsv\""
   ]
  },
  {
   "cell_type": "code",
   "execution_count": 3,
   "metadata": {},
   "outputs": [
    {
     "data": {
      "text/plain": [
       "14-element Vector{Vector{SubString{String}}}:\n",
       " [\"corticotropin\", \"SYSMEHFRWGKPVGKKRRPVKVYPDGAEDQLAEAFPLEF\"]\n",
       " [\"calcitonin_salmon\", \"CSNLSTCVLGKLSQELHKLQTYPRTNTGSGTP\"]\n",
       " [\"tetracosactide\", \"SYSMEHFRWGKPVGKKRRPVKVYP\"]\n",
       " [\"calcitonin_human\", \"CGNLSTCVLGTYTQDFNKFHTFPQTAIGVGAP\"]\n",
       " [\"carperitide\", \"SLRRSSCFGGRMDRIGAQSGLGCNSFRY\"]\n",
       " [\"bivalirudin\", \"FPRPGGGGNGDFEEIPEEYL\"]\n",
       " [\"nesiritide\", \"SPKMVQGSGCFGRKMDRISSSSGLGCKVLRRH\"]\n",
       " [\"pramlintide\", \"KCNTATCATQRLANFLVHSSNNFGPILPPTNVGSNTY\"]\n",
       " [\"exenatide\", \"HGEGTFTSDLSKQMEEEAVRLFIEWLKNGGPSSGAPPPS\"]\n",
       " [\"liraglutide\", \"HAEGTFTSDVSSYLEGQAAKEEFIAWLVRGRG\"]\n",
       " [\"tesamorelin\", \"YADAIFTNSYRKVLGQLSARKLLQDIMSRQQGESNQERGARARL\"]\n",
       " [\"teduglutide\", \"HGDGSFSDEMNTILDNLAARDFINWLIQTKITD\"]\n",
       " [\"lixisenatide\", \"HGEGTFTSDLSKQMEEEAVRLFIEWLKNGGPSSGAPPSKKKKKK\"]\n",
       " [\"albiglutide\", \"HGEGTFTSDVSSYLEGQAAKEFIAWLVKGR\"]"
      ]
     },
     "execution_count": 3,
     "metadata": {},
     "output_type": "execute_result"
    }
   ],
   "source": [
    "# Retrive the peptides\n",
    "peptides = [split(line, \"\\t\") for line in readlines(PEPTIDES_FILE)]"
   ]
  },
  {
   "cell_type": "code",
   "execution_count": 19,
   "metadata": {},
   "outputs": [
    {
     "name": "stdout",
     "output_type": "stream",
     "text": [
      "Blasting them peptides against the proteome...\n"
     ]
    }
   ],
   "source": [
    "println(\"Blasting them peptides against the proteome...\")\n",
    "proteins_to_exclude = []\n",
    "for peptide in peptides\n",
    "    seq = BioSequences.AminoAcidSequence(peptide[2])\n",
    "    results = blastp(seq, \"$SEQ_DIR/human_sequences.fasta\")\n",
    "    for result in results\n",
    "        push!(proteins_to_exclude, result.hitname)\n",
    "    end\n",
    "end"
   ]
  },
  {
   "cell_type": "code",
   "execution_count": 23,
   "metadata": {},
   "outputs": [
    {
     "name": "stdout",
     "output_type": "stream",
     "text": [
      "Saving the list of endogenous peptides equivalent to the FDA-approved peptides to a file.\n"
     ]
    },
    {
     "data": {
      "text/plain": [
       "55"
      ]
     },
     "execution_count": 23,
     "metadata": {},
     "output_type": "execute_result"
    }
   ],
   "source": [
    "println(\"Saving the list of endogenous peptides equivalent to the FDA-approved peptides to a file.\")\n",
    "open(\"$SEQ_DIR/endogenous_peptide_equivalent.txt\", \"w\") do io\n",
    "    write(io, join(Set(proteins_to_exclude), \"\\n\"))\n",
    "end"
   ]
  },
  {
   "cell_type": "code",
   "execution_count": null,
   "metadata": {},
   "outputs": [],
   "source": []
  }
 ],
 "metadata": {
  "kernelspec": {
   "display_name": "Julia 1.6.0",
   "language": "julia",
   "name": "julia-1.6"
  },
  "language_info": {
   "file_extension": ".jl",
   "mimetype": "application/julia",
   "name": "julia",
   "version": "1.6.0"
  }
 },
 "nbformat": 4,
 "nbformat_minor": 4
}
