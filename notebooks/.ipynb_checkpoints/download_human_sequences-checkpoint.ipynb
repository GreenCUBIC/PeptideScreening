{
 "cells": [
  {
   "cell_type": "code",
   "execution_count": 1,
   "metadata": {},
   "outputs": [],
   "source": [
    "using FASTX"
   ]
  },
  {
   "cell_type": "code",
   "execution_count": 2,
   "metadata": {},
   "outputs": [
    {
     "data": {
      "text/plain": [
       "\"https://ftp.uniprot.org/pub/databases/uniprot/current_release/knowledgebase/complete/uniprot_sprot.fasta.gz\""
      ]
     },
     "execution_count": 2,
     "metadata": {},
     "output_type": "execute_result"
    }
   ],
   "source": [
    "# Globals\n",
    "DESTINATION = \"../data/sequences\"\n",
    "SWISSPROT_ENDPOINT = \"https://ftp.uniprot.org/pub/databases/uniprot/current_release/knowledgebase/complete/uniprot_sprot.fasta.gz\""
   ]
  },
  {
   "cell_type": "code",
   "execution_count": 7,
   "metadata": {},
   "outputs": [
    {
     "name": "stderr",
     "output_type": "stream",
     "text": [
      "  % Total    % Received % Xferd  Average Speed   Time    Time     Time  Current\n",
      "                                 Dload  Upload   Total   Spent    Left  Speed\n",
      "100 85.6M  100 85.6M    0     0  4478k      0  0:00:19  0:00:19 --:--:-- 15.5M\n"
     ]
    },
    {
     "data": {
      "text/plain": [
       "Process(`\u001b[4mcurl\u001b[24m \u001b[4mhttps://ftp.uniprot.org/pub/databases/uniprot/current_release/knowledgebase/complete/uniprot_sprot.fasta.gz\u001b[24m \u001b[4m-o\u001b[24m \u001b[4m../data/sequences/uniprot_sprot.fasta.gz\u001b[24m`, ProcessExited(0))"
      ]
     },
     "execution_count": 7,
     "metadata": {},
     "output_type": "execute_result"
    }
   ],
   "source": [
    "# Dowload the dataset\n",
    "file_destination = \"$DESTINATION/uniprot_sprot.fasta.gz\"\n",
    "if !isfile(file_destination)\n",
    "    run(`curl $SWISSPROT_ENDPOINT -o $file_destination`)\n",
    "end"
   ]
  },
  {
   "cell_type": "code",
   "execution_count": 8,
   "metadata": {},
   "outputs": [
    {
     "data": {
      "text/plain": [
       "Process(setenv(`\u001b[4mgzip\u001b[24m \u001b[4m-k\u001b[24m \u001b[4m-d\u001b[24m \u001b[4muniprot_sprot.fasta.gz\u001b[24m`; dir=\"../data/sequences\"), ProcessExited(0))"
      ]
     },
     "execution_count": 8,
     "metadata": {},
     "output_type": "execute_result"
    }
   ],
   "source": [
    "# Unzip\n",
    "run(setenv(`gzip -k -d uniprot_sprot.fasta.gz`, dir=DESTINATION))"
   ]
  },
  {
   "cell_type": "code",
   "execution_count": 9,
   "metadata": {},
   "outputs": [
    {
     "data": {
      "text/plain": [
       "20396-element Vector{FASTX.FASTA.Record}:\n",
       " FASTX.FASTA.Record:\n",
       "   identifier: sp|P31946|1433B_HUMAN\n",
       "  description: 14-3-3 protein beta/alpha OS=Homo sapiens OX=9606 GN=YWHAB PE=1 SV=3\n",
       "     sequence: MTMDKSELVQKAKLAEQAERYDDMAAAMKAVTEQGHELS…\n",
       " FASTX.FASTA.Record:\n",
       "   identifier: sp|P62258|1433E_HUMAN\n",
       "  description: 14-3-3 protein epsilon OS=Homo sapiens OX=9606 GN=YWHAE PE=1 SV=1\n",
       "     sequence: MDDREDLVYQAKLAEQAERYDEMVESMKKVAGMDVELTV…\n",
       " FASTX.FASTA.Record:\n",
       "   identifier: sp|Q04917|1433F_HUMAN\n",
       "  description: 14-3-3 protein eta OS=Homo sapiens OX=9606 GN=YWHAH PE=1 SV=4\n",
       "     sequence: MGDREQLLQRARLAEQAERYDDMASAMKAVTELNEPLSN…\n",
       " FASTX.FASTA.Record:\n",
       "   identifier: sp|P61981|1433G_HUMAN\n",
       "  description: 14-3-3 protein gamma OS=Homo sapiens OX=9606 GN=YWHAG PE=1 SV=2\n",
       "     sequence: MVDREQLVQKARLAEQAERYDDMAAAMKNVTELNEPLSN…\n",
       " FASTX.FASTA.Record:\n",
       "   identifier: sp|P31947|1433S_HUMAN\n",
       "  description: 14-3-3 protein sigma OS=Homo sapiens OX=9606 GN=SFN PE=1 SV=1\n",
       "     sequence: MERASLIQKAKLAEQAERYEDMAAFMKGAVEKGEELSCE…\n",
       " FASTX.FASTA.Record:\n",
       "   identifier: sp|P27348|1433T_HUMAN\n",
       "  description: 14-3-3 protein theta OS=Homo sapiens OX=9606 GN=YWHAQ PE=1 SV=1\n",
       "     sequence: MEKTELIQKAKLAEQAERYDDMATCMKAVTEQGAELSNE…\n",
       " FASTX.FASTA.Record:\n",
       "   identifier: sp|P63104|1433Z_HUMAN\n",
       "  description: 14-3-3 protein zeta/delta OS=Homo sapiens OX=9606 GN=YWHAZ PE=1 SV=1\n",
       "     sequence: MDKNELVQKAKLAEQAERYDDMAACMKSVTEQGAELSNE…\n",
       " FASTX.FASTA.Record:\n",
       "   identifier: sp|Q96QU6|1A1L1_HUMAN\n",
       "  description: 1-aminocyclopropane-1-carboxylate synthase-like protein 1 OS=Homo sapiens OX=9606 GN=ACCS PE=1 SV=1\n",
       "     sequence: MFTLPQKDFRAPTTCLGPTCMQDLGSSHGEDLEGECSRK…\n",
       " FASTX.FASTA.Record:\n",
       "   identifier: sp|Q4AC99|1A1L2_HUMAN\n",
       "  description: Probable inactive 1-aminocyclopropane-1-carboxylate synthase-like protein 2 OS=Homo sapiens OX=9606 GN=ACCSL PE=2 SV=3\n",
       "     sequence: MSHRSDTLPVPSGQRRGRVPRDHSIYTQLLEITLHLQQA…\n",
       " FASTX.FASTA.Record:\n",
       "   identifier: sp|Q15172|2A5A_HUMAN\n",
       "  description: Serine/threonine-protein phosphatase 2A 56 kDa regulatory subunit alpha isoform OS=Homo sapiens OX=9606 GN=PPP2R5A PE=1 SV=1\n",
       "     sequence: MSSSSPPAGAASAAISASEKVDGFTRKSVRKAQRQKRSQ…\n",
       " FASTX.FASTA.Record:\n",
       "   identifier: sp|Q15173|2A5B_HUMAN\n",
       "  description: Serine/threonine-protein phosphatase 2A 56 kDa regulatory subunit beta isoform OS=Homo sapiens OX=9606 GN=PPP2R5B PE=1 SV=1\n",
       "     sequence: METKLPPASTPTSPSSPGLSPVPPPDKVDGFSRRSLRRA…\n",
       " FASTX.FASTA.Record:\n",
       "   identifier: sp|Q14738|2A5D_HUMAN\n",
       "  description: Serine/threonine-protein phosphatase 2A 56 kDa regulatory subunit delta isoform OS=Homo sapiens OX=9606 GN=PPP2R5D PE=1 SV=1\n",
       "     sequence: MPYKLKKEKEPPKVAKCTAKPSSSGKDGGGENTEEAQPQ…\n",
       " FASTX.FASTA.Record:\n",
       "   identifier: sp|Q16537|2A5E_HUMAN\n",
       "  description: Serine/threonine-protein phosphatase 2A 56 kDa regulatory subunit epsilon isoform OS=Homo sapiens OX=9606 GN=PPP2R5E PE=1 SV=1\n",
       "     sequence: MSSAPTTPPSVDKVDGFSRKSVRKARQKRSQSSSQFRSQ…\n",
       " ⋮\n",
       " FASTX.FASTA.Record:\n",
       "   identifier: sp|Q96AP4|ZUP1_HUMAN\n",
       "  description: Zinc finger-containing ubiquitin peptidase 1 OS=Homo sapiens OX=9606 GN=ZUP1 PE=1 SV=1\n",
       "     sequence: MLSCNICGETVTSEPDMKAHLIVHMESEIICPFCKLSGV…\n",
       " FASTX.FASTA.Record:\n",
       "   identifier: sp|O43264|ZW10_HUMAN\n",
       "  description: Centromere/kinetochore protein zw10 homolog OS=Homo sapiens OX=9606 GN=ZW10 PE=1 SV=3\n",
       "     sequence: MASFVTEVLAHSGRLEKEDLGTRISRLTRRVEEIKGEVC…\n",
       " FASTX.FASTA.Record:\n",
       "   identifier: sp|Q9H900|ZWILC_HUMAN\n",
       "  description: Protein zwilch homolog OS=Homo sapiens OX=9606 GN=ZWILCH PE=1 SV=2\n",
       "     sequence: MWERLNCAAEDFYSRLLQKFNEEKKGIRKDPFLYEADVQ…\n",
       " FASTX.FASTA.Record:\n",
       "   identifier: sp|O95229|ZWINT_HUMAN\n",
       "  description: ZW10 interactor OS=Homo sapiens OX=9606 GN=ZWINT PE=1 SV=2\n",
       "     sequence: MEAAETEAEAAALEVLAEVAGILEPVGLQEEAELPAKIL…\n",
       " FASTX.FASTA.Record:\n",
       "   identifier: sp|P98168|ZXDA_HUMAN\n",
       "  description: Zinc finger X-linked protein ZXDA OS=Homo sapiens OX=9606 GN=ZXDA PE=1 SV=2\n",
       "     sequence: MEIPKLLPARGTLQGGGGGGIPAGGGRVHRGPDSPAGQV…\n",
       " FASTX.FASTA.Record:\n",
       "   identifier: sp|P98169|ZXDB_HUMAN\n",
       "  description: Zinc finger X-linked protein ZXDB OS=Homo sapiens OX=9606 GN=ZXDB PE=1 SV=2\n",
       "     sequence: MEIPKLLPARGTLQGGGGGGIPAGGGRVHRGPDSPAGQV…\n",
       " FASTX.FASTA.Record:\n",
       "   identifier: sp|Q2QGD7|ZXDC_HUMAN\n",
       "  description: Zinc finger protein ZXDC OS=Homo sapiens OX=9606 GN=ZXDC PE=1 SV=2\n",
       "     sequence: MDLPALLPAPTARGGQHGGGPGPLRRAPAPLGASPARRR…\n",
       " FASTX.FASTA.Record:\n",
       "   identifier: sp|Q6WRX3|ZY11A_HUMAN\n",
       "  description: Protein zyg-11 homolog A OS=Homo sapiens OX=9606 GN=ZYG11A PE=2 SV=3\n",
       "     sequence: MVHFLHPGHTPRNIVPPDAQKDALGCCVVQEEASPYTLV…\n",
       " FASTX.FASTA.Record:\n",
       "   identifier: sp|Q9C0D3|ZY11B_HUMAN\n",
       "  description: Protein zyg-11 homolog B OS=Homo sapiens OX=9606 GN=ZYG11B PE=1 SV=2\n",
       "     sequence: MPEDQAGAAMEEASPYSLLDICLNFLTTHLEKFCSARQD…\n",
       " FASTX.FASTA.Record:\n",
       "   identifier: sp|Q15942|ZYX_HUMAN\n",
       "  description: Zyxin OS=Homo sapiens OX=9606 GN=ZYX PE=1 SV=1\n",
       "     sequence: MAAPRPSPAISVSVSAPAFYAPQKKFGPVVAPKPKVNPF…\n",
       " FASTX.FASTA.Record:\n",
       "   identifier: sp|O43149|ZZEF1_HUMAN\n",
       "  description: Zinc finger ZZ-type and EF-hand domain-containing protein 1 OS=Homo sapiens OX=9606 GN=ZZEF1 PE=1 SV=6\n",
       "     sequence: MGNAPSHSSEDEAAAAGGEGWGPHQDWAAVSGTTPGPGV…\n",
       " FASTX.FASTA.Record:\n",
       "   identifier: sp|Q8IYH5|ZZZ3_HUMAN\n",
       "  description: ZZ-type zinc finger-containing protein 3 OS=Homo sapiens OX=9606 GN=ZZZ3 PE=1 SV=1\n",
       "     sequence: MAASRSTRVTRSTVGLNGLDESFCGRTLRNRSIAHPEEI…"
      ]
     },
     "execution_count": 9,
     "metadata": {},
     "output_type": "execute_result"
    }
   ],
   "source": [
    "# Filter the sequences\n",
    "human_sequences = [record for record in FASTA.Reader(open(\"$DESTINATION/uniprot_sprot.fasta\")) if occursin(\"OX=9606\", FASTA.description(record))]"
   ]
  },
  {
   "cell_type": "code",
   "execution_count": 10,
   "metadata": {},
   "outputs": [
    {
     "data": {
      "text/plain": [
       "11549548"
      ]
     },
     "execution_count": 10,
     "metadata": {},
     "output_type": "execute_result"
    }
   ],
   "source": [
    "# Dump to a file\n",
    "open(\"$DESTINATION/human_sequences.fasta\", \"w\") do io\n",
    "    fasta_content = join([\">$(split(FASTA.identifier(seq), \"|\")[2])\\n$(FASTA.sequence(seq))\" for seq in human_sequences], \"\\n\")\n",
    "    write(io, fasta_content)\n",
    "end"
   ]
  }
 ],
 "metadata": {
  "kernelspec": {
   "display_name": "Julia 1.6.0",
   "language": "julia",
   "name": "julia-1.6"
  },
  "language_info": {
   "file_extension": ".jl",
   "mimetype": "application/julia",
   "name": "julia",
   "version": "1.6.0"
  }
 },
 "nbformat": 4,
 "nbformat_minor": 4
}
